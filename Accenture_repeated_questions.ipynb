{
  "nbformat": 4,
  "nbformat_minor": 0,
  "metadata": {
    "colab": {
      "provenance": [],
      "authorship_tag": "ABX9TyNZEFdIjK6vCgak0vMrK2Sg",
      "include_colab_link": true
    },
    "kernelspec": {
      "name": "python3",
      "display_name": "Python 3"
    },
    "language_info": {
      "name": "python"
    }
  },
  "cells": [
    {
      "cell_type": "markdown",
      "metadata": {
        "id": "view-in-github",
        "colab_type": "text"
      },
      "source": [
        "<a href=\"https://colab.research.google.com/github/anusha123-routhu/python/blob/main/Accenture_repeated_questions.ipynb\" target=\"_parent\"><img src=\"https://colab.research.google.com/assets/colab-badge.svg\" alt=\"Open In Colab\"/></a>"
      ]
    },
    {
      "cell_type": "markdown",
      "source": [
        "**Small Large Sum **\n",
        "\n",
        "Write a function SmallLargeSum(array) which accepts the array as an argument or\n",
        "parameter, that performs the addition of the second largest element from the\n",
        "even location with the second largest element from an odd location?\n",
        "\n",
        "\n",
        "**Rules:**\n",
        "All the array elements are unique.\n",
        "If the length of the array is 3 or less than 3, then return 0.\n",
        "If Array is empty then return zero.\n",
        "\n",
        "\n",
        "Sample Test Case 1:\n",
        "Input:\n",
        "6\n",
        "3 2 1 7 5 4\n",
        "Output:\n",
        "7\n",
        "Explanation: The second largest element in the even locations (3, 1, 5) is 3. The\n",
        "second largest element in the odd locations (2, 7, 4) is 4. So the addition of 3 and\n",
        "4 is 7. So the answer is 7.\n",
        "Sample Test Case 2:\n",
        "Input:\n",
        "7\n",
        "4 0 7 9 6 4 2\n",
        "Output:\n",
        "10"
      ],
      "metadata": {
        "id": "Y_ub4Gbbq00P"
      }
    },
    {
      "cell_type": "code",
      "source": [
        "def small_largesum(array):\n",
        "    if len(array) <= 3:\n",
        "        return 0\n",
        "\n",
        "    even_elements = []\n",
        "    odd_elements = []\n",
        "\n",
        "    for i in range(len(array)):\n",
        "        if i % 2 == 0:\n",
        "            even_elements.append(array[i])\n",
        "        else:\n",
        "            odd_elements.append(array[i])\n",
        "\n",
        "    even_elements.sort()\n",
        "    odd_elements.sort()\n",
        "\n",
        "    # Check if we have at least 2 elements to find the second largest\n",
        "    if len(even_elements) > 1:\n",
        "        second_largest_even = even_elements[-2]\n",
        "    else:\n",
        "        second_largest_even = 0\n",
        "\n",
        "    if len(odd_elements) > 1:\n",
        "        second_largest_odd = odd_elements[-2]\n",
        "    else:\n",
        "        second_largest_odd = 0\n",
        "\n",
        "    return second_largest_even + second_largest_odd\n",
        "\n",
        "# Example usage:\n",
        "array = list(map(int, input(\"Enter the elements of the array: \").split()))\n",
        "result = small_largesum(array)\n",
        "print(result)\n"
      ],
      "metadata": {
        "colab": {
          "base_uri": "https://localhost:8080/"
        },
        "id": "rz_RQ4CZrCQH",
        "outputId": "f4f16ad7-a990-4947-8a8c-f67ddfeb81a5"
      },
      "execution_count": null,
      "outputs": [
        {
          "output_type": "stream",
          "name": "stdout",
          "text": [
            "Enter the elements of the array: 1 2 3 4 5 6 7  9 8\n",
            "13\n"
          ]
        }
      ]
    },
    {
      "cell_type": "markdown",
      "source": [
        "**2. Check Password **\n",
        "Write a function CheckPassword(str) which will accept the string as an\n",
        "argument or parameter and validates the password. It will return 1 if\n",
        "the conditions are satisfied else it’ll return 0?\n",
        "The password is valid if it satisfies the below conditions:\n",
        "It should contain at least 4 characters.\n",
        "At least 1 numeric digit should be present.\n",
        "1 Capital letter should be there.\n",
        "Password should not contain space or slash.\n",
        "The starting character should not be a number.\n",
        "Sample Test Case:\n",
        "Input:\n",
        "bB1_89\n",
        "Output:\n",
        "1"
      ],
      "metadata": {
        "id": "kby1G27LsKWj"
      }
    },
    {
      "cell_type": "code",
      "source": [
        "def checkpassword(password):\n",
        "    if len(password) < 4:\n",
        "        return 0\n",
        "    if password[0].isdigit():\n",
        "        return 0\n",
        "\n",
        "    has_digit = False\n",
        "    has_uppercase = False\n",
        "    has_invalidchar = False\n",
        "\n",
        "    for char in password:\n",
        "        if char.isdigit():\n",
        "            has_digit = True\n",
        "        if char.isupper():\n",
        "            has_uppercase = True\n",
        "        if char == \" \" or char == '/':\n",
        "            has_invalidchar = True\n",
        "\n",
        "    if has_digit and has_uppercase and not has_invalidchar:\n",
        "        return 1\n",
        "    else:\n",
        "        return 0\n",
        "\n",
        "password = input(\"Enter the password: \")\n",
        "print(checkpassword(password))\n"
      ],
      "metadata": {
        "id": "1a38wNUYs9g5",
        "colab": {
          "base_uri": "https://localhost:8080/"
        },
        "outputId": "703050b6-7f14-4af8-f750-eaa59263279f"
      },
      "execution_count": null,
      "outputs": [
        {
          "output_type": "stream",
          "name": "stdout",
          "text": [
            "Enter the password: bB_123\n",
            "1\n"
          ]
        }
      ]
    },
    {
      "cell_type": "markdown",
      "source": [
        "**3. Calculate Binary Operations **\n",
        "Write a function CalculateBinaryOperations(str) that accepts the string\n",
        "as an argument or parameter. The string should contains the binary\n",
        "numbers with their operators OR, AND, and XOR?\n",
        "A Means the AND Operation.\n",
        "B Means the OR Operation.\n",
        "C Means the XOR Operation.\n",
        "By scanning the given string from left to right you’ve to calculate the\n",
        "string and by taking one operator at a time then return the desired\n",
        "output.\n",
        "Conditions:\n",
        "The priority of the operator is not required.\n",
        "The length of the string is always Odd.\n",
        "If the length of the string is null then return -1.\n",
        "Sample Test Case:\n",
        "Input:\n",
        "1C0C1C1A0B1\n",
        "Output:\n",
        "1"
      ],
      "metadata": {
        "id": "7tmvnbGW645K"
      }
    },
    {
      "cell_type": "code",
      "source": [
        "def Binary_operations(binary):\n",
        "  if not binary:\n",
        "    return -1\n",
        "  result=int(binary[0])\n",
        "  for i in range(1,len(binary),2):\n",
        "    operator = binary[i]\n",
        "    operand = int(binary[i + 1])\n",
        "    if operator==A:\n",
        "      result= result & operand\n",
        "    if operator==B:\n",
        "      result=result | operand\n",
        "    if operator==C:\n",
        "      result=result ^ operand\n",
        "    return result\n",
        "str=input()\n",
        "print(result)\n",
        "\n"
      ],
      "metadata": {
        "colab": {
          "base_uri": "https://localhost:8080/"
        },
        "id": "CMqWOpvj7oGV",
        "outputId": "581c140d-7fcd-40ed-f964-84b156a24dad"
      },
      "execution_count": null,
      "outputs": [
        {
          "output_type": "stream",
          "name": "stdout",
          "text": [
            "1coc123\n",
            "13\n"
          ]
        }
      ]
    },
    {
      "cell_type": "markdown",
      "source": [
        "4. Find Maximum In An Array\n",
        "Write a function FindMaxInArray, which will find the greatest number\n",
        "from an array with its desired index? The greatest number and its\n",
        "desired index should be printed in separate lines.\n",
        "Sample Test Case:\n",
        "Input:\n",
        "10\n",
        "15 78 96 17 20 65 14 36 18 20\n",
        "Output:\n",
        "96\n",
        "2"
      ],
      "metadata": {
        "id": "jK-qj2eT-k76"
      }
    },
    {
      "cell_type": "code",
      "source": [
        "def FindMaxInArray(arr):\n",
        "    # Assume the first element is the maximum\n",
        "    max_num = arr[0]\n",
        "    max_index = 0\n",
        "\n",
        "    # Iterate over the array starting from the second element\n",
        "    for i in range(1, len(arr)):\n",
        "        if arr[i] > max_num:\n",
        "            max_num = arr[i]\n",
        "            max_index = i\n",
        "\n",
        "    # Print the maximum number and its index (1-based index)\n",
        "    print(max_num)\n",
        "    print(max_index)\n",
        "\n",
        "# Sample Test Case\n",
        "input_array = list(map(int,input().split()))\n",
        "FindMaxInArray(input_array)\n",
        "\n"
      ],
      "metadata": {
        "colab": {
          "base_uri": "https://localhost:8080/"
        },
        "id": "yHmAqxft8iLN",
        "outputId": "ac53e7f1-8678-4ab1-d2e6-c8fd4ee91ca7"
      },
      "execution_count": null,
      "outputs": [
        {
          "output_type": "stream",
          "name": "stdout",
          "text": [
            "23 45 67 8 9 56\n",
            "67\n",
            "2\n"
          ]
        }
      ]
    },
    {
      "cell_type": "markdown",
      "source": [
        "**5. Operation Choices **\n",
        "Write a function OperationChoices(c, a, b) which will accept three\n",
        "integers as an argument, and the function will return:\n",
        "(a + b) if the value of c=1.\n",
        "(a – b) if the value of c=2.\n",
        "(a * b) if the value of c=3.\n",
        "(a / b) if the value of c=4.\n",
        "Sample Test Case:\n",
        "Input:\n",
        "2\n",
        "15\n",
        "20\n",
        "Output:\n",
        "-5"
      ],
      "metadata": {
        "id": "kCXZcOqV_mK_"
      }
    },
    {
      "cell_type": "code",
      "source": [
        "def OperationChoices(c, a, b):\n",
        "    if c == 1:\n",
        "        return a + b\n",
        "    elif c == 2:\n",
        "        return a - b\n",
        "    elif c == 3:\n",
        "        return a * b\n",
        "    elif c == 4:\n",
        "        return a / b\n",
        "    else:\n",
        "        return \"Invalid operation\"\n",
        "\n",
        "# Sample Test Case\n",
        "c = int(input())\n",
        "a = int(input())\n",
        "b = int(input())\n",
        "print(OperationChoices(c, a, b))  # Output: -5\n"
      ],
      "metadata": {
        "colab": {
          "base_uri": "https://localhost:8080/"
        },
        "id": "DyaXgVZY_n8A",
        "outputId": "7fefb119-ba17-499e-adf9-a7772ede4b0f"
      },
      "execution_count": null,
      "outputs": [
        {
          "output_type": "stream",
          "name": "stdout",
          "text": [
            "4\n",
            "5\n",
            "6\n",
            "0.8333333333333334\n"
          ]
        }
      ]
    },
    {
      "cell_type": "markdown",
      "source": [
        "**6. Difference Of Sum **\n",
        "Write a function differenceofSum(a,b) which will take two integers as\n",
        "an argument. You’ve to obtain the total of all the integers ranging from\n",
        "1 to n (both inclusive) that are not divisible by b. You should also return\n",
        "the distinction between the sum of the integers which are not divisible\n",
        "by b with the sum of the integers divisible by b?\n",
        "Consider: a and b are greater than 0. i.e a>0 and b>0. And their sum\n",
        "should lies between the integral range.\n",
        "Sample Test Case 1:\n",
        "Input:\n",
        "a = 6 and b = 30\n",
        "Output:\n",
        "285"
      ],
      "metadata": {
        "id": "eXN0hIWNAJ0w"
      }
    },
    {
      "cell_type": "code",
      "source": [
        "def differenceofSum(a, b):\n",
        "    sum_of_integer_div_by_b = 0\n",
        "    sum_of_integer_not_div_by_b = 0\n",
        "    for i in range(1, a + 1):\n",
        "        if i % b == 0:\n",
        "            sum_of_integer_div_by_b += i\n",
        "        else:\n",
        "            sum_of_integer_not_div_by_b += i\n",
        "    return sum_of_integer_not_div_by_b - sum_of_integer_div_by_b\n",
        "\n",
        "a = int(input())\n",
        "b = int(input())\n",
        "print(differenceofSum(a, b))\n"
      ],
      "metadata": {
        "colab": {
          "base_uri": "https://localhost:8080/"
        },
        "id": "g81t68OpAc9O",
        "outputId": "28fb1e37-295d-45da-998c-472257476bbe"
      },
      "execution_count": null,
      "outputs": [
        {
          "output_type": "stream",
          "name": "stdout",
          "text": [
            "23\n",
            "26\n",
            "276\n"
          ]
        }
      ]
    },
    {
      "cell_type": "markdown",
      "source": [
        "7. Anagram Strings\n",
        "Write a function to check whether the given strings are anagrams or\n",
        "not. If the given strings are anagram then return ‘yes’ otherwise return\n",
        "‘no’?\n",
        "Sample Test Case 1:\n",
        "Input:\n",
        "1st: learn\n",
        "2nd: simple\n",
        "Output:\n",
        "no"
      ],
      "metadata": {
        "id": "SR-_Njs3SJWF"
      }
    },
    {
      "cell_type": "code",
      "source": [
        "def check_anagram(str1,str2):\n",
        "  str1=str1.replace(\" \" ,\"\").lower()\n",
        "  str2=str2.replace(\" \",\" \").lower()\n",
        "  if sorted (str1)==sorted(str2):\n",
        "    return 'yes'\n",
        "  else:\n",
        "    return 'no'\n",
        "str1=input()\n",
        "str2=input()\n",
        "print(check_anagram(str1,str2))"
      ],
      "metadata": {
        "colab": {
          "base_uri": "https://localhost:8080/"
        },
        "id": "oFkpCulySVVk",
        "outputId": "97f2b16d-d76c-48a3-c8e4-b210cbd8c3b0"
      },
      "execution_count": null,
      "outputs": [
        {
          "output_type": "stream",
          "name": "stdout",
          "text": [
            "yes\n",
            "sey\n",
            "yes\n"
          ]
        }
      ]
    },
    {
      "cell_type": "markdown",
      "source": [
        "8. Product Small Pair\n",
        "Write a function Productsmallpair(sum, arr) which will accept the two\n",
        "integers sum and arr. These two integers will be used to find the arr(j)\n",
        "and arr(k) where k is not equal to j.arr(j) and arr(k). k != j.arr(j) and\n",
        "arr(k) should be the smallest elements from the array.\n",
        "Rules:\n",
        "If the value of n<2 or empty, then return -1.\n",
        "If these pairs are not found then return the value as 0.\n",
        "You should make sure that all the values are between the range of\n",
        "integers.\n",
        "Sample Test Case 1\n",
        "Input:\n",
        "sum: 9\n",
        "arr: 5 4 2 3 9 1 7\n",
        "Output:\n",
        "2"
      ],
      "metadata": {
        "id": "mVjM9jfWU4BM"
      }
    },
    {
      "cell_type": "code",
      "source": [
        "def Productsmallpair(sum_value, arr):\n",
        "    if len(arr) < 2:\n",
        "        return -1\n",
        "\n",
        "    min_product = float('inf')\n",
        "    found_pair = False\n",
        "\n",
        "    for i in range(len(arr)):\n",
        "        for j in range(i + 1, len(arr)):\n",
        "            if arr[i] + arr[j] == sum_value:\n",
        "                product = arr[i] * arr[j]\n",
        "                if product < min_product:\n",
        "                    min_product = product\n",
        "                    found_pair = True\n",
        "\n",
        "    if found_pair:\n",
        "        return min_product\n",
        "    else:\n",
        "        return 0\n",
        "\n",
        "# Sample Input\n",
        "sum_value = int(input())\n",
        "arr = list(map(int, input().split()))\n",
        "\n",
        "# Output the result\n",
        "print(Productsmallpair(sum_value, arr))\n"
      ],
      "metadata": {
        "colab": {
          "base_uri": "https://localhost:8080/"
        },
        "id": "b04fqAOYVbUx",
        "outputId": "8695690f-23a1-4727-ed42-6500fbec67fb"
      },
      "execution_count": null,
      "outputs": [
        {
          "output_type": "stream",
          "name": "stdout",
          "text": [
            "1\n",
            "1 2 3\n",
            "0\n"
          ]
        }
      ]
    },
    {
      "cell_type": "markdown",
      "source": [
        "**REPLACE CHARACTER**\n",
        "\n",
        "\n",
        "\n",
        "Write a function Replacecharacter(Char str1, Char ch1, Int 1, Char ch2)\n",
        "which has a string(str) and the two characters ch1 and ch2. Execute a\n",
        "function in such a way that string str will return to its original string,\n",
        "and all the events in ch1 are replaced by ch2 and vice versa?\n",
        "Consider: The strings will have only alphabets in lower case.\n",
        "Sample Test Case:\n",
        "Input:\n",
        "str: tervpro\n",
        "ch1: e\n",
        "ch2: p\n",
        "Output:\n",
        "tprvero\n",
        "Solution:\n",
        "All the ‘e’s in the string are replaced with the ‘p’ and ‘p’ is replaced with\n",
        "the ‘e’."
      ],
      "metadata": {
        "id": "4s4NSlW2qcMy"
      }
    },
    {
      "cell_type": "code",
      "source": [
        "def replacecharacter(str,ch1,ch2):\n",
        "  translation_table=str.maketrans({ch1:ch2,ch2:ch1})\n",
        "  return str.translate(translation_table)\n",
        "str=input().lower()\n",
        "ch1=input()\n",
        "ch2=input()\n",
        "result=replacecharacter(str,ch1,ch2)\n",
        "print(result)"
      ],
      "metadata": {
        "colab": {
          "base_uri": "https://localhost:8080/"
        },
        "id": "XsHnH3PHr-YS",
        "outputId": "b71346d7-f16b-4e3e-a0e1-bab7730552eb"
      },
      "execution_count": null,
      "outputs": [
        {
          "output_type": "stream",
          "name": "stdout",
          "text": [
            "Anusha\n",
            "s\n",
            "e\n",
            "anueha\n"
          ]
        }
      ]
    },
    {
      "cell_type": "markdown",
      "source": [
        "10. Reverse a String\n",
        "Write a function that will accept strings from the user and will reverse\n",
        "the string word-wise. The last word will come as the first word in the\n",
        "output and vice versa?\n",
        "Sample Test Case 1:\n",
        "Input:\n",
        "terv pro\n",
        "Output:\n",
        "pro terv\n",
        "Explanation:\n",
        "The reverse string word-wise function is applied.\n",
        "Sample Test Case 2:\n",
        "Input:\n",
        "Welcome to Sunday samayal\n",
        "Output:\n",
        "samayal Sunday to Welcome"
      ],
      "metadata": {
        "id": "3NO5xCGitGjD"
      }
    },
    {
      "cell_type": "code",
      "source": [
        "def reversestring(word):\n",
        "  reverse=\"\"\n",
        "  for char in word:\n",
        "    reverse=char+reverse\n",
        "  return reverse\n",
        "\n",
        "word=input()\n",
        "result=reversestring(word)\n",
        "print(result)"
      ],
      "metadata": {
        "colab": {
          "base_uri": "https://localhost:8080/"
        },
        "id": "1DLHVToPtON1",
        "outputId": "ff19793f-90dd-44f5-afa6-8c7ac412a662"
      },
      "execution_count": null,
      "outputs": [
        {
          "output_type": "stream",
          "name": "stdout",
          "text": [
            "pallavi\n",
            "ivallap\n"
          ]
        }
      ]
    },
    {
      "cell_type": "markdown",
      "source": [
        "11. Question\n",
        "The function accepts two positive integers ‘r’ and ‘unit’ and a positive\n",
        "integer array ‘arr’ of size ‘n’ as its argument ‘r’ represents the number\n",
        "of rats present in an area, ‘unit’ is the amount of food each rat\n",
        "consumes and each ith element of array ‘arr’ represents the amount of\n",
        "food present in ‘i+1’ house number, where 0 <= i.\n",
        "Note:\n",
        "1. Return -1 if the array is null\n",
        "2. Return 0 if the total amount of food from all houses is not sufficient\n",
        "for all the rats.\n",
        "3. Computed values lie within the integer range.\n",
        "Example:\n",
        "Input:\n",
        "r: 7\n",
        "unit: 2\n",
        "n: 8\n",
        "arr: 2 8 3 5 7 4 1 2\n",
        "Output:\n",
        "4\n",
        "Explanation:\n",
        "Total. amount of food required for all rats = r unit\n",
        "= 7 2 = 14.\n",
        "The amount of food in 1st houses = 2+8+3+5 = 18. Since, the amount of\n",
        "food in 1st 4 houses is sufficient for all the rats. Thus, output is 4."
      ],
      "metadata": {
        "id": "TzrbeNTQuwG4"
      }
    },
    {
      "cell_type": "code",
      "source": [
        "def find_min_house(r, unit, arr):\n",
        "    if arr is None or len(arr) == 0:\n",
        "        return -1\n",
        "\n",
        "    total_food = r * unit\n",
        "    current_food = 0\n",
        "\n",
        "    for i in range(len(arr)):\n",
        "        current_food += arr[i]\n",
        "        if current_food >= total_food:\n",
        "            return i + 1\n",
        "\n",
        "    return 0  # Moved out of the loop\n",
        "\n",
        "r = int(input())\n",
        "unit = int(input())\n",
        "arr = list(map(int, input().split()))\n",
        "print(find_min_house(r, unit, arr))\n"
      ],
      "metadata": {
        "colab": {
          "base_uri": "https://localhost:8080/"
        },
        "id": "L-xazcB7xqS7",
        "outputId": "8b454024-8ea3-4fe7-fccb-9809310a352b"
      },
      "execution_count": null,
      "outputs": [
        {
          "output_type": "stream",
          "name": "stdout",
          "text": [
            "7\n",
            "2\n",
            "2 8 3 5 7 4 1 2\n",
            "4\n"
          ]
        }
      ]
    },
    {
      "cell_type": "markdown",
      "source": [
        "12. QUESTION\n",
        "You are given a function,\n",
        "int findCount(int arr[], int length, int num, int diff);\n",
        "The function accepts an integer array ‘arr’, its length and two integer\n",
        "variables ‘num’ and ‘diff’. Implement this function to find and return\n",
        "the number of elements of ‘arr’ having an absolute difference of less\n",
        "than or equal to ‘diff’ with ‘num’.\n",
        "Note: In case there is no element in ‘arr’ whose absolute difference\n",
        "with ‘num’ is less than or equal to ‘diff’, return -1.\n",
        "Example:\n",
        "Input:\n",
        "arr: 12 3 14 56 77 13\n",
        "num: 13\n",
        "diff: 2\n",
        "Output:\n",
        "3\n",
        "Explanation:\n",
        "Elements of ‘arr’ having absolute difference of less than or equal to\n",
        "‘diff’ i.e. 2 with ‘num’ i.e. 13 are 12, 13 and 14."
      ],
      "metadata": {
        "id": "zmW9CAb83E7D"
      }
    },
    {
      "cell_type": "code",
      "source": [
        "def findCount(arr, length, num, diff):\n",
        "    count = 0\n",
        "\n",
        "    for i in range(length):\n",
        "        if abs(arr[i] - num) <= diff:\n",
        "            count += 1\n",
        "\n",
        "    if count == 0:\n",
        "        return -1\n",
        "    else:\n",
        "        return count\n",
        "\n",
        "# Example usage\n",
        "arr = list(map(int,input().split()))\n",
        "num = int(input())\n",
        "diff = int(input())\n",
        "length = len(arr)\n",
        "result = findCount(arr, length, num, diff)\n",
        "print(result)\n",
        "\n"
      ],
      "metadata": {
        "colab": {
          "base_uri": "https://localhost:8080/"
        },
        "id": "xNbtDLJD3LFR",
        "outputId": "d67918b0-5a05-41a8-f166-1f38f437e287"
      },
      "execution_count": null,
      "outputs": [
        {
          "output_type": "stream",
          "name": "stdout",
          "text": [
            "1 2 3 4 5 6 7 8\n",
            "1\n",
            "1\n",
            "2\n"
          ]
        }
      ]
    },
    {
      "cell_type": "markdown",
      "source": [
        "\n",
        "Tom is writing a secret message using a string of text (str). However, he accidentally mixed up two important characters (ch1 and ch2). Now, all instances of chi have turned into ch2, and ch2 have turned into ch1. Your mission is to help Tom by creating a function that will restore the original message. The function should take the string (str) along with the two characters (ch1 and ch2), and swap them back to their correct places so that the message is exactly as Tom intended it.\n",
        "\n",
        "Example:\n",
        "\n",
        "Input:\n",
        "\n",
        "str: apples\n",
        "\n",
        "ch1: a\n",
        "\n",
        "ch2: p\n",
        "\n",
        "Output:\n",
        "\n",
        "paales\n",
        "\n",
        "Explanation:\n",
        "\n",
        "All the 'a' in the string is replaced with 'p'. And all the 'p's are replaced with 'a'."
      ],
      "metadata": {
        "id": "4xV07aVS1k1H"
      }
    },
    {
      "cell_type": "code",
      "source": [
        "def swap_a_string(s, ch1, ch2):\n",
        "    result = []\n",
        "    for char in s:\n",
        "        if char == ch1:\n",
        "            result.append(ch2)\n",
        "        elif char == ch2:\n",
        "            result.append(ch1)\n",
        "        else:\n",
        "            result.append(char)\n",
        "    return ''.join(result)\n",
        "\n",
        "# Get input from the user\n",
        "s = input()\n",
        "ch1=input()\n",
        "ch2=input()\n",
        "\n",
        "\n",
        "result = swap_a_string(s, ch1, ch2)\n",
        "print(\"Resulting string:\", result)\n"
      ],
      "metadata": {
        "colab": {
          "base_uri": "https://localhost:8080/"
        },
        "id": "c9JNglRA1qvV",
        "outputId": "fceb19ab-d543-4478-c1ce-3eb5631dbabe"
      },
      "execution_count": 8,
      "outputs": [
        {
          "output_type": "stream",
          "name": "stdout",
          "text": [
            "apples\n",
            "a\n",
            "p\n",
            "Resulting string: paales\n"
          ]
        }
      ]
    },
    {
      "cell_type": "markdown",
      "source": [
        "Question 2:\n",
        "\n",
        "Alice has an array 'B' and she wants to figure out how many times the second highest element appears in it. Your task is to help her by returning an integer that represents the number of occurrences of this second highest element in the array.\n",
        "\n",
        "Note:\n",
        "\n",
        "- If the array consists of identical elements, return 0. - The array is sorted and contains consecutive elements.\n",
        "\n",
        "Input:\n",
        "\n",
        "8\n",
        "\n",
        "12344555\n",
        "\n",
        "@codinginpy\n",
        "\n",
        "Output:\n",
        "\n",
        "2"
      ],
      "metadata": {
        "id": "rYcrPDVr47rY"
      }
    },
    {
      "cell_type": "code",
      "source": [
        "def count_second_highest_occurrences(arr):\n",
        "    highest = arr[-1]\n",
        "    second_highest = None\n",
        "\n",
        "    for i in range(len(arr) - 2, -1, -1):\n",
        "        if arr[i] < highest:\n",
        "            second_highest = arr[i]\n",
        "            break\n",
        "\n",
        "    if second_highest is None:\n",
        "        return 0\n",
        "    return arr.count(second_highest)\n",
        "\n",
        "n = int(input())\n",
        "arr = list(map(int, input().split()))\n",
        "result = count_second_highest_occurrences(arr)\n",
        "print(result)\n",
        "\n"
      ],
      "metadata": {
        "colab": {
          "base_uri": "https://localhost:8080/"
        },
        "id": "73o0eAHw8MQL",
        "outputId": "47ce6a3a-bf6a-4964-bfd0-7d93a657e0c2"
      },
      "execution_count": 20,
      "outputs": [
        {
          "output_type": "stream",
          "name": "stdout",
          "text": [
            "8\n",
            "1 2 3 3 4 4 4 7\n",
            "3\n"
          ]
        }
      ]
    }
  ]
}