{
  "nbformat": 4,
  "nbformat_minor": 0,
  "metadata": {
    "colab": {
      "provenance": [],
      "authorship_tag": "ABX9TyNe3xHzXOTUO/jX17XfjlYG",
      "include_colab_link": true
    },
    "kernelspec": {
      "name": "python3",
      "display_name": "Python 3"
    },
    "language_info": {
      "name": "python"
    }
  },
  "cells": [
    {
      "cell_type": "markdown",
      "metadata": {
        "id": "view-in-github",
        "colab_type": "text"
      },
      "source": [
        "<a href=\"https://colab.research.google.com/github/anusha123-routhu/python/blob/main/Untitled53.ipynb\" target=\"_parent\"><img src=\"https://colab.research.google.com/assets/colab-badge.svg\" alt=\"Open In Colab\"/></a>"
      ]
    },
    {
      "cell_type": "markdown",
      "source": [
        "**Reverse a string**"
      ],
      "metadata": {
        "id": "OZVZjWFdYtwA"
      }
    },
    {
      "cell_type": "code",
      "source": [
        "s=input()\n",
        "reverse=s[::-1]\n",
        "print(reverse)"
      ],
      "metadata": {
        "colab": {
          "base_uri": "https://localhost:8080/"
        },
        "id": "gU6sxfJEYyds",
        "outputId": "d4908501-f830-47d4-9a7a-ccae59105625"
      },
      "execution_count": null,
      "outputs": [
        {
          "output_type": "stream",
          "name": "stdout",
          "text": [
            "Anusha\n",
            "ahsunA\n"
          ]
        }
      ]
    },
    {
      "cell_type": "code",
      "source": [
        "s=input()\n",
        "reverse=\"\"\n",
        "for char in s:\n",
        "  reverse=char+reverse\n",
        "print(reverse)"
      ],
      "metadata": {
        "id": "hSo1K9tVZpP5"
      },
      "execution_count": null,
      "outputs": []
    },
    {
      "cell_type": "code",
      "source": [
        "def reverse_Str(s):\n",
        "  reverse=\"\"\n",
        "  for char in s:\n",
        "    reverse=char+reverse\n",
        "  return reverse\n",
        "s=input()\n",
        "result=reverse_Str(s)\n",
        "print(result)"
      ],
      "metadata": {
        "colab": {
          "base_uri": "https://localhost:8080/"
        },
        "id": "ueP5fH1jgaw6",
        "outputId": "5d69a59c-0aab-4610-e792-6bf63946bc00"
      },
      "execution_count": 11,
      "outputs": [
        {
          "output_type": "stream",
          "name": "stdout",
          "text": [
            "anusha\n",
            "ahsuna\n"
          ]
        }
      ]
    },
    {
      "cell_type": "code",
      "source": [
        "#palindrome check\n",
        "str=input()\n",
        "reverse=\"\"\n",
        "for char in str:\n",
        "  reverse=char+reverse\n",
        "if str==reverse:\n",
        "  print(\"palindrome\")\n",
        "else:\n",
        "  print(\"not a palindrome\")"
      ],
      "metadata": {
        "colab": {
          "base_uri": "https://localhost:8080/"
        },
        "id": "0iHOIYhig7dW",
        "outputId": "da0a7bd7-14da-45e0-e34f-832dfeeef011"
      },
      "execution_count": 12,
      "outputs": [
        {
          "output_type": "stream",
          "name": "stdout",
          "text": [
            "madam\n",
            "palindrome\n"
          ]
        }
      ]
    },
    {
      "cell_type": "code",
      "source": [
        "def palindrome_check(str):\n",
        "  reverse=\"\"\n",
        "  for char in str:\n",
        "    reverse=char+reverse\n",
        "  if str==reverse:\n",
        "    return \"palindrome\"\n",
        "  else:\n",
        "    return \"not a palindrome\"\n",
        "str=input()\n",
        "result=palindrome_check(str)\n",
        "print(result)"
      ],
      "metadata": {
        "colab": {
          "base_uri": "https://localhost:8080/"
        },
        "id": "zsXvyJLZiGWM",
        "outputId": "e7389e91-171e-4e08-c069-cba4d6a87bd1"
      },
      "execution_count": 14,
      "outputs": [
        {
          "output_type": "stream",
          "name": "stdout",
          "text": [
            "madam\n",
            "palindrome\n"
          ]
        }
      ]
    },
    {
      "cell_type": "code",
      "source": [
        "#maximum element in an array\n",
        "arr=list(map(int,input().split()))\n",
        "if len(arr)==0:\n",
        "  print(\"none\")\n",
        "else:\n",
        "  max=arr[0]\n",
        "  for element in arr:\n",
        "    if element > max:\n",
        "      max=element\n",
        "  print(element)\n",
        ""
      ],
      "metadata": {
        "colab": {
          "base_uri": "https://localhost:8080/"
        },
        "id": "P1lAzR_zixSh",
        "outputId": "768f7125-195c-44da-ff6a-a97b32954251"
      },
      "execution_count": 19,
      "outputs": [
        {
          "output_type": "stream",
          "name": "stdout",
          "text": [
            "1 2 3 4 5 6\n",
            "6\n"
          ]
        }
      ]
    },
    {
      "cell_type": "code",
      "source": [
        "def max_element(arr):\n",
        "  if len(arr)==0:\n",
        "    return None\n",
        "  max=arr[0]\n",
        "  for element in arr:\n",
        "    if element>max:\n",
        "      max=element\n",
        "  return max\n",
        "arr=list(map(int,input().split()))\n",
        "result=max_element(arr)\n",
        "print(result)\n"
      ],
      "metadata": {
        "colab": {
          "base_uri": "https://localhost:8080/"
        },
        "id": "3WwIKmH5lwQI",
        "outputId": "bab69e5d-b041-4adf-d670-d88d1221afd1"
      },
      "execution_count": 22,
      "outputs": [
        {
          "output_type": "stream",
          "name": "stdout",
          "text": [
            "1 2 3 4 5 6 7 8\n",
            "8\n"
          ]
        }
      ]
    },
    {
      "cell_type": "code",
      "source": [
        "def intersection(arr1,arr2):\n",
        "  return list(set(arr1)&set(arr2))\n",
        "arr1=list(map(int,input().split()))\n",
        "arr2=list(map(int,input().split()))\n",
        "result=intersection(arr1,arr2)\n",
        "print(result)\n",
        "\n",
        "\n",
        "\n"
      ],
      "metadata": {
        "colab": {
          "base_uri": "https://localhost:8080/"
        },
        "id": "4kt2YjDPvurf",
        "outputId": "2e0e66cc-272a-43b8-e45b-eb6c2f6fe4f4"
      },
      "execution_count": 44,
      "outputs": [
        {
          "output_type": "stream",
          "name": "stdout",
          "text": [
            "1 2 3 4\n",
            "2 3 4 5\n",
            "[2, 3, 4]\n"
          ]
        }
      ]
    },
    {
      "cell_type": "code",
      "source": [
        "arr1=list(map(int,input().split()))\n",
        "arr2=list(map(int,input().split()))\n",
        "intersection=[]\n",
        "for element in arr1 :\n",
        "  if element in arr2 and element not in intersection:\n",
        "    intersection.append(element)\n",
        "print(intersection)\n",
        ""
      ],
      "metadata": {
        "colab": {
          "base_uri": "https://localhost:8080/"
        },
        "id": "7IMKlRyGyMhI",
        "outputId": "c0121ff9-f556-4045-c16c-0607c9540f33"
      },
      "execution_count": 48,
      "outputs": [
        {
          "output_type": "stream",
          "name": "stdout",
          "text": [
            "1 2 3 4 5 6\n",
            "2 3 4 5 7\n",
            "[2, 3, 4, 5]\n"
          ]
        }
      ]
    },
    {
      "cell_type": "code",
      "source": [
        "def remove_duplicates(arr):\n",
        "  return list(set(arr))\n",
        "arr=list(map(int,input().split()))\n",
        "result=remove_duplicates(arr)\n",
        "print(result)"
      ],
      "metadata": {
        "colab": {
          "base_uri": "https://localhost:8080/"
        },
        "id": "4Sut5Yi22_GV",
        "outputId": "c56a89af-e539-4880-f3cb-c0f165fa2359"
      },
      "execution_count": 50,
      "outputs": [
        {
          "output_type": "stream",
          "name": "stdout",
          "text": [
            "1 2 2 3 4 5 5 6  7 7 7\n",
            "[1, 2, 3, 4, 5, 6, 7]\n"
          ]
        }
      ]
    },
    {
      "cell_type": "code",
      "source": [
        "arr=list(map(int,input().split()))\n",
        "unique=[]\n",
        "for element in arr:\n",
        "  if element not in unique:\n",
        "    unique.append(element)\n",
        "print(unique)\n"
      ],
      "metadata": {
        "colab": {
          "base_uri": "https://localhost:8080/"
        },
        "id": "WlaBHahv3epH",
        "outputId": "4e327fc9-ab7e-4414-a2d1-c918ebafdb77"
      },
      "execution_count": 56,
      "outputs": [
        {
          "output_type": "stream",
          "name": "stdout",
          "text": [
            "1 1 2 2 3 3 4 4\n",
            "[1, 2, 3, 4]\n"
          ]
        }
      ]
    },
    {
      "cell_type": "code",
      "source": [
        "def count_occurance(arr):\n",
        "    counts = {}\n",
        "    for element in arr:\n",
        "        if element in counts:\n",
        "            counts[element] += 1\n",
        "        else:\n",
        "            counts[element] = 1\n",
        "    return counts\n",
        "\n",
        "arr = list(map(int, input().split()))\n",
        "result = count_occurance(arr)\n",
        "print(result)\n"
      ],
      "metadata": {
        "colab": {
          "base_uri": "https://localhost:8080/"
        },
        "id": "1iknnMtS50nU",
        "outputId": "61dfa8ca-4553-4df8-8d97-d5124e957268"
      },
      "execution_count": 64,
      "outputs": [
        {
          "output_type": "stream",
          "name": "stdout",
          "text": [
            "1 2 3 4 5 5 6 6 6\n",
            "{1: 1, 2: 1, 3: 1, 4: 1, 5: 2, 6: 3}\n"
          ]
        }
      ]
    },
    {
      "cell_type": "code",
      "source": [
        "arr=list(map(int,input().split()))\n",
        "counts={}\n",
        "for element in arr:\n",
        "  if element in counts:\n",
        "    counts[element]+=1\n",
        "  else:\n",
        "    counts[element]=1\n",
        "print(counts)\n",
        "\n"
      ],
      "metadata": {
        "colab": {
          "base_uri": "https://localhost:8080/"
        },
        "id": "DvJmSxrW6Dc6",
        "outputId": "f3d21f9d-3d47-4603-b833-9118e510496a"
      },
      "execution_count": 67,
      "outputs": [
        {
          "output_type": "stream",
          "name": "stdout",
          "text": [
            "1 2 3 4 5 5 6 6 6\n",
            "{1: 1, 2: 1, 3: 1, 4: 1, 5: 2, 6: 3}\n"
          ]
        }
      ]
    },
    {
      "cell_type": "code",
      "source": [
        "n=input()\n",
        "sum=0\n",
        "for i in n:\n",
        "  sum+=int(i)**len(n)\n",
        "if sum==int(n):\n",
        "  print(\"armstrong\")\n",
        "else:\n",
        "  print(\"not armstrong\")\n"
      ],
      "metadata": {
        "colab": {
          "base_uri": "https://localhost:8080/"
        },
        "id": "QHqnhZ8_648l",
        "outputId": "64f8b929-be4d-4432-ce9a-6000874aa6d5"
      },
      "execution_count": 69,
      "outputs": [
        {
          "output_type": "stream",
          "name": "stdout",
          "text": [
            "153\n",
            "armstrong\n"
          ]
        }
      ]
    },
    {
      "cell_type": "code",
      "source": [
        "def armstrong_check(num):\n",
        "    sum = 0\n",
        "    for i in num:\n",
        "        sum += int(i) ** len(num)\n",
        "\n",
        "    if sum == int(num):\n",
        "        return \"armstrong\"\n",
        "    else:\n",
        "        return \"not an armstrong\"\n",
        "\n",
        "num = input(\"Enter a number: \")\n",
        "print(armstrong_check(num))\n"
      ],
      "metadata": {
        "colab": {
          "base_uri": "https://localhost:8080/"
        },
        "id": "ygOTHxmm8PLX",
        "outputId": "aca536a6-40ee-418b-e352-e290aef3cbd5"
      },
      "execution_count": 76,
      "outputs": [
        {
          "output_type": "stream",
          "name": "stdout",
          "text": [
            "Enter a number: 153\n",
            "armstrong\n"
          ]
        }
      ]
    }
  ]
}