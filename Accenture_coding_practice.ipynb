{
  "nbformat": 4,
  "nbformat_minor": 0,
  "metadata": {
    "colab": {
      "provenance": [],
      "authorship_tag": "ABX9TyPCo/8GY4yHpC5cmQlhz/B+",
      "include_colab_link": true
    },
    "kernelspec": {
      "name": "python3",
      "display_name": "Python 3"
    },
    "language_info": {
      "name": "python"
    }
  },
  "cells": [
    {
      "cell_type": "markdown",
      "metadata": {
        "id": "view-in-github",
        "colab_type": "text"
      },
      "source": [
        "<a href=\"https://colab.research.google.com/github/anusha123-routhu/python/blob/main/Accenture_coding_practice.ipynb\" target=\"_parent\"><img src=\"https://colab.research.google.com/assets/colab-badge.svg\" alt=\"Open In Colab\"/></a>"
      ]
    },
    {
      "cell_type": "markdown",
      "source": [
        "**REVERSE A STRING**\n"
      ],
      "metadata": {
        "id": "J9FXNOArhS3z"
      }
    },
    {
      "cell_type": "code",
      "source": [
        "s=input()\n",
        "reverse=s[::-1]\n",
        "print(reverse)"
      ],
      "metadata": {
        "colab": {
          "base_uri": "https://localhost:8080/"
        },
        "id": "OTWUG9kbh1Yp",
        "outputId": "634818ca-996d-4b40-f24f-8cffd4c50746"
      },
      "execution_count": null,
      "outputs": [
        {
          "output_type": "stream",
          "name": "stdout",
          "text": [
            "reverse\n",
            "esrever\n"
          ]
        }
      ]
    },
    {
      "cell_type": "code",
      "source": [
        "n=input()\n",
        "reverse=\"\"\n",
        "for char in n:\n",
        "  reverse=char+reverse\n",
        "  print(reverse)"
      ],
      "metadata": {
        "colab": {
          "base_uri": "https://localhost:8080/"
        },
        "id": "wBkuiztAijex",
        "outputId": "69754f92-7d13-4e32-bda5-148e01b4209f"
      },
      "execution_count": null,
      "outputs": [
        {
          "output_type": "stream",
          "name": "stdout",
          "text": [
            "what\n",
            "tahw\n"
          ]
        }
      ]
    },
    {
      "cell_type": "code",
      "source": [
        "def reverse_string(s):\n",
        "  reverse=\" \"\n",
        "  for char in s:\n",
        "    reverse=char+reverse\n",
        "  return reverse\n",
        "s=input()\n",
        "reverse=reverse_string(s)\n",
        "print(reverse)\n",
        "\n"
      ],
      "metadata": {
        "colab": {
          "base_uri": "https://localhost:8080/"
        },
        "id": "2WlhMQrJkj1t",
        "outputId": "ab57e262-49dc-4832-dfa5-6a6d99f5eb0c"
      },
      "execution_count": null,
      "outputs": [
        {
          "output_type": "stream",
          "name": "stdout",
          "text": [
            "what\n",
            "tahw \n"
          ]
        }
      ]
    },
    {
      "cell_type": "markdown",
      "source": [
        "**Maximum element in an array**"
      ],
      "metadata": {
        "id": "eTmYWYm5mH9D"
      }
    },
    {
      "cell_type": "code",
      "source": [
        "def find_maximum(arr):\n",
        "    if len(arr) == 0:\n",
        "        return None\n",
        "    maximum = arr[0]\n",
        "    for element in arr:\n",
        "        if element > maximum:\n",
        "            maximum = element\n",
        "    return maximum\n",
        "\n",
        "arr = list(map(int, input().split()))\n",
        "maximum = find_maximum(arr)\n",
        "print(maximum)\n",
        "\n"
      ],
      "metadata": {
        "colab": {
          "base_uri": "https://localhost:8080/"
        },
        "id": "BYmSrFTpoA4q",
        "outputId": "facedd3b-3cf7-4e42-b74d-448a52f76a2b"
      },
      "execution_count": null,
      "outputs": [
        {
          "output_type": "stream",
          "name": "stdout",
          "text": [
            "\n",
            "None\n"
          ]
        }
      ]
    },
    {
      "cell_type": "code",
      "source": [
        "#without uisng function\n",
        "arr=list(map(int,input().split()))\n",
        "if len(arr)==0:\n",
        "  print(\"none\")\n",
        "\n",
        "else:\n",
        "  maximum=arr[0]\n",
        "  for element in arr:\n",
        "    if element >  maximum:\n",
        "      maximum=element\n",
        "  print(maximum)\n"
      ],
      "metadata": {
        "colab": {
          "base_uri": "https://localhost:8080/"
        },
        "id": "_vAOrST8tMCx",
        "outputId": "6b52ab7b-e560-4154-9812-80c38fdbefdf"
      },
      "execution_count": null,
      "outputs": [
        {
          "output_type": "stream",
          "name": "stdout",
          "text": [
            "1  2  3  4\n",
            "4\n"
          ]
        }
      ]
    },
    {
      "cell_type": "markdown",
      "source": [
        "**Palindrome**"
      ],
      "metadata": {
        "id": "M-QW-VlMuKpK"
      }
    },
    {
      "cell_type": "code",
      "source": [
        "n=input()\n",
        "reverse=\" \"\n",
        "for char in n:\n",
        "  reverse=char+reverse\n",
        "if n==reverse:\n",
        "    print(\"palindrome\")\n",
        "else:\n",
        "    print(\"not a palindrome\")"
      ],
      "metadata": {
        "colab": {
          "base_uri": "https://localhost:8080/"
        },
        "id": "rBK8h2tBvQI8",
        "outputId": "86c9a0e4-48ff-45be-ab21-dc080204fed5"
      },
      "execution_count": null,
      "outputs": [
        {
          "output_type": "stream",
          "name": "stdout",
          "text": [
            "121\n",
            "not a palindrome\n"
          ]
        }
      ]
    },
    {
      "cell_type": "code",
      "source": [
        "def check_palindrome(s):\n",
        "  reverse=\"\"\n",
        "  for char in s:\n",
        "    reverse=char+reverse\n",
        "  if s==reverse:\n",
        "     print(\"palindrome\")\n",
        "  else:\n",
        "    print(\"not a palindrome       , ,,,,\")\n",
        "s=input()\n",
        "result=check_palindrome(s)\n",
        "print(result)\n"
      ],
      "metadata": {
        "colab": {
          "base_uri": "https://localhost:8080/"
        },
        "id": "F3WYA7FHviRj",
        "outputId": "58cda406-7eb8-4480-8dc4-c73c00045b8c"
      },
      "execution_count": null,
      "outputs": [
        {
          "output_type": "stream",
          "name": "stdout",
          "text": [
            "121\n",
            "palindrome\n",
            "None\n"
          ]
        }
      ]
    },
    {
      "cell_type": "code",
      "source": [
        "n=input()\n",
        "reverse=\"=-pl,lllll;.\"\n",
        "for char in n :\n",
        "  reverse =char+reverse\n",
        "if n == reverse:\n",
        "          print(\"palindrome\")\n",
        "else:\n",
        "          print(\"not a palindrome\")\n",
        "\n"
      ],
      "metadata": {
        "colab": {
          "base_uri": "https://localhost:8080/"
        },
        "id": "fFTgGmBSzbAK",
        "outputId": "4552d0ab-bd0d-4fa6-d6e0-99ca8c7e3a54"
      },
      "execution_count": null,
      "outputs": [
        {
          "output_type": "stream",
          "name": "stdout",
          "text": [
            "121\n",
            "palindrome\n"
          ]
        }
      ]
    },
    {
      "cell_type": "markdown",
      "source": [
        "**`Missing Number in  an array`**"
      ],
      "metadata": {
        "id": "zbjItFBs1SOE"
      }
    },
    {
      "cell_type": "code",
      "source": [
        "def find_missing_numbers(arr):\n",
        "    if not arr:\n",
        "        return None  # Handle empty array case\n",
        "\n",
        "    min_val = min(arr)\n",
        "    max_val = max(arr)\n",
        "\n",
        "    # Calculate the expected sum of all numbers from min_val to max_val\n",
        "    sum_expected = sum(range(min_val, max_val + 1))\n",
        "    sum_actual = sum(arr)\n",
        "\n",
        "    # Missing numbers\n",
        "    missing_sum = sum_expected - sum_actual\n",
        "\n",
        "    # To find which exact numbers are missing, you can check each number in the range\n",
        "    missing_numbers = []\n",
        "    for num in range(min_val, max_val + 1):\n",
        "         if num not in arr:\n",
        "               missing_numbers.append(num)\n",
        "\n",
        "    return missing_numbers\n",
        "\n",
        "# Example usage\n",
        "arr = list(map(int, input(\"Enter the elements of the array separated by spaces: \").split()))\n",
        "missing_numbers = find_missing_numbers(arr)\n",
        "print(\"The missing numbers are:\", missing_numbers)\n",
        "\n"
      ],
      "metadata": {
        "colab": {
          "base_uri": "https://localhost:8080/"
        },
        "id": "TvQ6p1fL1am3",
        "outputId": "674d2a47-f9d5-416f-98b1-ce083dbe85c2"
      },
      "execution_count": null,
      "outputs": [
        {
          "output_type": "stream",
          "name": "stdout",
          "text": [
            "Enter the elements of the array separated by spaces: 1 2 3 5 7 9\n",
            "The missing numbers are: [4, 6, 8]\n"
          ]
        }
      ]
    },
    {
      "cell_type": "code",
      "source": [
        "def find_missing_number(arr):\n",
        "  if not arr:\n",
        "    return None\n",
        "  min_val=min(arr)\n",
        "  max_val=max(arr)\n",
        "  sum_expected=sum(range(min_val,max_val+1))\n",
        "  sum_actual=sum(arr)\n",
        "  missing_sum=sum_expected - sum_actual\n",
        "  missing_numbers=[]\n",
        "  for num in range(min_val,max_val+1):\n",
        "    if num not in arr:\n",
        "      missing_numbers.append(num)\n",
        "  return missing_numbers\n",
        "arr=list(map(int,input().split()))\n",
        "missing_numbers=find_missing_number(arr)\n",
        "print(missing_numbers)\n",
        "\n"
      ],
      "metadata": {
        "colab": {
          "base_uri": "https://localhost:8080/"
        },
        "id": "FzND-Pmf5pv9",
        "outputId": "b15bb922-1502-46a8-cd35-fc4524542f5a"
      },
      "execution_count": null,
      "outputs": [
        {
          "output_type": "stream",
          "name": "stdout",
          "text": [
            "1 4  5 7\n",
            "[2, 3, 6]\n"
          ]
        }
      ]
    },
    {
      "cell_type": "code",
      "source": [
        "def find_missing_number(arr):\n",
        "  if not arr:\n",
        "    return None\n",
        "  min_val=min(arr)\n",
        "  max_val=max(arr)\n",
        "  sum_expected=sum(range(min_val,max_val+1))\n",
        "  sum_actual=sum(arr)\n",
        "  missing_sum=sum_expected - sum_actual\n",
        "  missing_numbers=[]\n",
        "  for num in range(min_val,max_val+1):\n",
        "    if num not in arr:\n",
        "      missing_numbers.append(num)\n",
        "  return missing_numbers\n",
        "arr=list(map(int,input().split()))\n",
        "missing_numbers=find_missing_number(arr)\n",
        "print(missing_numbers)"
      ],
      "metadata": {
        "colab": {
          "base_uri": "https://localhost:8080/"
        },
        "id": "V8MQQsHGvk_d",
        "outputId": "1a2a1af7-6657-48ad-f3cf-23680da01d2f"
      },
      "execution_count": null,
      "outputs": [
        {
          "output_type": "stream",
          "name": "stdout",
          "text": [
            "1 2 3 5 6 7\n",
            "[4]\n"
          ]
        }
      ]
    },
    {
      "cell_type": "markdown",
      "source": [
        "**Find the intersection of 2 Arrays**"
      ],
      "metadata": {
        "id": "cl0x2Q7lhedP"
      }
    },
    {
      "cell_type": "code",
      "source": [
        "def  intersection_of_arrays(arr1,arr2):\n",
        "  return list(set(arr1) & set(arr2))\n",
        "arr1=list(map(int,input().split()))\n",
        "arr2=list(map(int,input().split()))\n",
        "intersection=intersection_of_arrays(arr1,arr2)\n",
        "print(intersection)"
      ],
      "metadata": {
        "id": "E3pcoVI85y7g",
        "colab": {
          "base_uri": "https://localhost:8080/"
        },
        "outputId": "f390ad9f-fdfc-4099-e140-1e82862d1a51"
      },
      "execution_count": null,
      "outputs": [
        {
          "output_type": "stream",
          "name": "stdout",
          "text": [
            "1 2 3 4\n",
            "9 8 6 5\n",
            "[]\n"
          ]
        }
      ]
    },
    {
      "cell_type": "code",
      "source": [
        "arr1=list(map(int,input().split()))\n",
        "arr2=list(map(int,input().split()))\n",
        "intersection=[]\n",
        "for element in arr1:\n",
        "  if element in arr2 and element not in intersection:\n",
        "    intersection.append(element)\n",
        "print(intersection)\n"
      ],
      "metadata": {
        "colab": {
          "base_uri": "https://localhost:8080/"
        },
        "id": "PPQUIvmomCVF",
        "outputId": "1ddf1fc0-46a6-4a88-f3c9-5cd00e3f9c47"
      },
      "execution_count": null,
      "outputs": [
        {
          "output_type": "stream",
          "name": "stdout",
          "text": [
            "12 14 15\n",
            "12 15 17\n",
            "[12, 15]\n"
          ]
        }
      ]
    },
    {
      "cell_type": "markdown",
      "source": [
        "**Remove duplicates in an array**"
      ],
      "metadata": {
        "id": "Xq4xntk3tgN-"
      }
    },
    {
      "cell_type": "code",
      "source": [
        "def remove_duplicates(arr):\n",
        "    return list(set(arr))\n",
        "arr=list(map(int,input().split()))\n",
        "print(remove_duplicates(arr))"
      ],
      "metadata": {
        "colab": {
          "base_uri": "https://localhost:8080/"
        },
        "id": "h_iLRKSHt9u-",
        "outputId": "ab9c2da7-7ced-4bda-b8ec-5f61a48d8339"
      },
      "execution_count": null,
      "outputs": [
        {
          "output_type": "stream",
          "name": "stdout",
          "text": [
            "1 2 2 3 4 5 6 7 8 9 10\n",
            "[1, 2, 3, 4, 5, 6, 7, 8, 9, 10]\n"
          ]
        }
      ]
    },
    {
      "cell_type": "code",
      "source": [
        "arr=list(map(int,input().split()))\n",
        "unique=[]\n",
        "for element in arr:\n",
        "  if element not in unique:\n",
        "    unique.append(element)\n",
        "print(unique)"
      ],
      "metadata": {
        "colab": {
          "base_uri": "https://localhost:8080/"
        },
        "id": "1wBR4kWLu9CB",
        "outputId": "a806704c-3514-415e-acd9-6d03c73add50"
      },
      "execution_count": null,
      "outputs": [
        {
          "output_type": "stream",
          "name": "stdout",
          "text": [
            "1 2 3 4 5 6 7 8 9 9 9\n",
            "[1, 2, 3, 4, 5, 6, 7, 8, 9]\n"
          ]
        }
      ]
    },
    {
      "cell_type": "markdown",
      "source": [
        "**Count the occurance of an element in an array**"
      ],
      "metadata": {
        "id": "eCtk1sSgwaXQ"
      }
    },
    {
      "cell_type": "code",
      "source": [
        "def count_occurance(arr):\n",
        "  counts ={}\n",
        "for element in  arr:\n",
        "  if element in counts:\n",
        "     counts[element] += 1\n",
        "  else:\n",
        "    counts[element] = 1\n",
        "arr=list(map(int,input().split()))\n",
        "print(count_occurance(arr))"
      ],
      "metadata": {
        "colab": {
          "base_uri": "https://localhost:8080/"
        },
        "id": "HhOY8gUDyjIr",
        "outputId": "bd7a5bf7-84db-4720-906b-1ddce83fd320"
      },
      "execution_count": null,
      "outputs": [
        {
          "output_type": "stream",
          "name": "stdout",
          "text": [
            "1 2 3 4 5\n",
            "{1: 2, 2: 4, 3: 2, 4: 2, 5: 6}\n"
          ]
        }
      ]
    },
    {
      "cell_type": "code",
      "source": [
        "arr=list(map(int,input().split()))\n",
        "counts={}\n",
        "for element in arr:\n",
        "  if element in counts:\n",
        "     counts[element] += 1\n",
        "  else:\n",
        "    counts[element] = 1\n",
        "print(counts)"
      ],
      "metadata": {
        "colab": {
          "base_uri": "https://localhost:8080/"
        },
        "id": "ZsnasWnhvT65",
        "outputId": "3e7bd567-e038-44c4-e530-709b326c7490"
      },
      "execution_count": null,
      "outputs": [
        {
          "output_type": "stream",
          "name": "stdout",
          "text": [
            "1 2 2 3 4 5 5 5\n",
            "{1: 1, 2: 2, 3: 1, 4: 1, 5: 3}\n"
          ]
        }
      ]
    },
    {
      "cell_type": "markdown",
      "source": [
        "**ARMSTRONG NUMBER CHECK**"
      ],
      "metadata": {
        "id": "BqKvNpym0THh"
      }
    },
    {
      "cell_type": "code",
      "source": [
        "num=input()\n",
        "sum=0\n",
        "for i in num:\n",
        "  sum+=int(i)**len(num)\n",
        "if sum==int(num):\n",
        "    print(\"armstrong\")\n",
        "else:\n",
        "    print(\"not an armstrong\")"
      ],
      "metadata": {
        "colab": {
          "base_uri": "https://localhost:8080/"
        },
        "id": "u4KvglQ59089",
        "outputId": "9a90644d-2936-49c8-e0f9-4fcfc448af69"
      },
      "execution_count": null,
      "outputs": [
        {
          "output_type": "stream",
          "name": "stdout",
          "text": [
            "153\n",
            "armstrong\n"
          ]
        }
      ]
    },
    {
      "cell_type": "code",
      "source": [
        "def armstrongcheck(num):\n",
        "  sum=0\n",
        "  for i in num:\n",
        "    sum+=int(i)**len(num)\n",
        "  if sum==int(num):\n",
        "    return \"armstrong\"\n",
        "  else:\n",
        "    return \"not a armstrong\"\n",
        "num=input()\n",
        "print(armstrongcheck(num))"
      ],
      "metadata": {
        "colab": {
          "base_uri": "https://localhost:8080/"
        },
        "id": "UhRRDxtn-hhS",
        "outputId": "4cdd9fcc-0cb6-410e-d49b-504b88fa7a41"
      },
      "execution_count": null,
      "outputs": [
        {
          "output_type": "stream",
          "name": "stdout",
          "text": [
            "153\n",
            "armstrong\n"
          ]
        }
      ]
    },
    {
      "cell_type": "markdown",
      "source": [
        "**POSITIVE OR NEGATIVE NUM**"
      ],
      "metadata": {
        "id": "mg4uyFbm_a0p"
      }
    },
    {
      "cell_type": "code",
      "source": [
        "num=int(input())\n",
        "if num>0:\n",
        "  print(\"positive\")\n",
        "else:\n",
        "  print(\"negative\")"
      ],
      "metadata": {
        "colab": {
          "base_uri": "https://localhost:8080/"
        },
        "id": "kFugAmceAG3M",
        "outputId": "d2acf404-ce76-4d86-d0b8-805904b2581d"
      },
      "execution_count": null,
      "outputs": [
        {
          "output_type": "stream",
          "name": "stdout",
          "text": [
            "6\n",
            "positive\n"
          ]
        }
      ]
    },
    {
      "cell_type": "code",
      "source": [
        "def postivenegative_check(num):\n",
        "  if num>0:\n",
        "    return \"postive\"\n",
        "  else:\n",
        "    return \"negative\"\n",
        "num=int(input())\n",
        "print( postivenegative_check(num))\n"
      ],
      "metadata": {
        "colab": {
          "base_uri": "https://localhost:8080/"
        },
        "id": "-ry_JKJdAey-",
        "outputId": "e14fec0b-7290-44a8-cfe6-cfe281e597bd"
      },
      "execution_count": null,
      "outputs": [
        {
          "output_type": "stream",
          "name": "stdout",
          "text": [
            "12\n",
            "postive\n"
          ]
        }
      ]
    },
    {
      "cell_type": "markdown",
      "source": [
        "**Even or odd Number**"
      ],
      "metadata": {
        "id": "w9wvp5pABT8X"
      }
    },
    {
      "cell_type": "code",
      "source": [
        "num=int(input())\n",
        "if num % 2 == 0:\n",
        "  print(\"even number\")\n",
        "else:\n",
        "  print(\"odd number\")"
      ],
      "metadata": {
        "colab": {
          "base_uri": "https://localhost:8080/"
        },
        "id": "TQKyiJ-1BXgm",
        "outputId": "eb02cb29-0a13-4303-986e-e15d048bebc8"
      },
      "execution_count": null,
      "outputs": [
        {
          "output_type": "stream",
          "name": "stdout",
          "text": [
            "6\n",
            "even number\n"
          ]
        }
      ]
    },
    {
      "cell_type": "code",
      "source": [
        "def evenodd_check(num):\n",
        "  if num % 2 == 0:\n",
        "    return \"even number\"\n",
        "  else:\n",
        "    return \"odd number\"\n",
        "num=int(input())\n",
        "print(evenodd_check(num))"
      ],
      "metadata": {
        "colab": {
          "base_uri": "https://localhost:8080/"
        },
        "id": "9v2f_jIFBmQW",
        "outputId": "e64bc697-3264-483f-b287-806ab86fadf6"
      },
      "execution_count": null,
      "outputs": [
        {
          "output_type": "stream",
          "name": "stdout",
          "text": [
            "67\n",
            "odd number\n"
          ]
        }
      ]
    },
    {
      "cell_type": "markdown",
      "source": [
        "Sum of 1st n natural number"
      ],
      "metadata": {
        "id": "OKgPtXlqCgXn"
      }
    },
    {
      "cell_type": "code",
      "source": [
        "n=int(input())\n",
        "sum=n*(n+1)//2\n",
        "print(sum )"
      ],
      "metadata": {
        "colab": {
          "base_uri": "https://localhost:8080/"
        },
        "id": "FwMLwcniCkx7",
        "outputId": "2914d6f6-e933-452c-e805-c8606097172e"
      },
      "execution_count": null,
      "outputs": [
        {
          "output_type": "stream",
          "name": "stdout",
          "text": [
            "5\n",
            "15\n"
          ]
        }
      ]
    },
    {
      "cell_type": "code",
      "source": [
        "def sumofnaturalnum(n):\n",
        "  return n*(n+1)//2\n",
        "num=int(input())\n",
        "print(sumofnaturalnum(n))"
      ],
      "metadata": {
        "colab": {
          "base_uri": "https://localhost:8080/"
        },
        "id": "9jMXC4-vDOwZ",
        "outputId": "9d3174c4-afd9-4f2b-b3aa-005b11c2c141"
      },
      "execution_count": null,
      "outputs": [
        {
          "output_type": "stream",
          "name": "stdout",
          "text": [
            "4\n",
            "15\n"
          ]
        }
      ]
    },
    {
      "cell_type": "markdown",
      "source": [
        "**SUM OF N NATURAL NUMBERS**\n"
      ],
      "metadata": {
        "id": "Y1tC4-uFm2FO"
      }
    },
    {
      "cell_type": "code",
      "source": [
        "n=int(input(\"enter n\"))\n",
        "total=0\n",
        "for i in range(n):\n",
        "  num=int(input(\"enter num\"))\n",
        "  total+=num\n",
        "print(n,total)"
      ],
      "metadata": {
        "colab": {
          "base_uri": "https://localhost:8080/"
        },
        "id": "wFMtuJ9BqJuF",
        "outputId": "075d4fd1-7476-431c-a641-63d90b38460f"
      },
      "execution_count": 8,
      "outputs": [
        {
          "output_type": "stream",
          "name": "stdout",
          "text": [
            "enter n4\n",
            "enter num5\n",
            "enter num6\n",
            "enter num7\n",
            "enter num8\n",
            "4 26\n"
          ]
        }
      ]
    },
    {
      "cell_type": "code",
      "source": [
        "def sumofn_naturalnumbers(n):\n",
        "    total = 0\n",
        "    for i in range(n):\n",
        "        num = int(input(\"Enter a number: \"))\n",
        "        total += num\n",
        "    return total\n",
        "\n",
        "n = int(input(\"Enter how many numbers: \"))\n",
        "total = sumofn_naturalnumbers(n)\n",
        "print(total )\n"
      ],
      "metadata": {
        "colab": {
          "base_uri": "https://localhost:8080/"
        },
        "id": "52MugOO7sQrG",
        "outputId": "fa104916-b6de-45df-8617-255e56a338cd"
      },
      "execution_count": 15,
      "outputs": [
        {
          "output_type": "stream",
          "name": "stdout",
          "text": [
            "Enter how many numbers: 7\n",
            "Enter a number: 8\n",
            "Enter a number: 8\n",
            "Enter a number: 8\n",
            "Enter a number: 8\n",
            "Enter a number: 8\n",
            "Enter a number: 8\n",
            "Enter a number: 8\n",
            "56\n"
          ]
        }
      ]
    },
    {
      "cell_type": "markdown",
      "source": [
        "**SUM OF NUMBERS IN A GIVEN RANGE**"
      ],
      "metadata": {
        "id": "Y0RvIQUYu_ly"
      }
    },
    {
      "cell_type": "code",
      "source": [
        "n=int(input())\n",
        "m=int(input())\n",
        "total=0\n",
        "for num in range(n,m+1):\n",
        "  total+=num\n",
        "print(n,m,\":\",total)"
      ],
      "metadata": {
        "colab": {
          "base_uri": "https://localhost:8080/"
        },
        "id": "2zCI6Zfwu819",
        "outputId": "4d3fec74-930a-4d8a-cc2e-0ba5e63d43a7"
      },
      "execution_count": 23,
      "outputs": [
        {
          "output_type": "stream",
          "name": "stdout",
          "text": [
            "1\n",
            "3\n",
            "1 3 : 6\n"
          ]
        }
      ]
    },
    {
      "cell_type": "code",
      "source": [
        "def sumofn_naturalnumbers(n,m):\n",
        "   total=0\n",
        "   for num in range(n,m+1):\n",
        "      total+=num\n",
        "   return total\n",
        "n=int(input())\n",
        "m=int(input())\n",
        "total=sumofn_naturalnumbers(n,m)\n",
        "print(total)\n",
        "\n"
      ],
      "metadata": {
        "colab": {
          "base_uri": "https://localhost:8080/"
        },
        "id": "VLebiJVUvvIo",
        "outputId": "12610613-2482-4e46-e1a3-4c478f4da65a"
      },
      "execution_count": 20,
      "outputs": [
        {
          "output_type": "stream",
          "name": "stdout",
          "text": [
            "1\n",
            "3\n",
            "6\n"
          ]
        }
      ]
    },
    {
      "cell_type": "markdown",
      "source": [
        "**GREATEST OF 2 NUMBERS**"
      ],
      "metadata": {
        "id": "_4IQwQJQ0AOv"
      }
    },
    {
      "cell_type": "code",
      "source": [
        "n=int(input())\n",
        "m=int(input())\n",
        "if n>m:\n",
        "  print(n)\n",
        "elif m>n:\n",
        "  print(m)\n",
        "else:\n",
        "  print(\"equal\")"
      ],
      "metadata": {
        "colab": {
          "base_uri": "https://localhost:8080/"
        },
        "id": "IXf9JaEt0Hg-",
        "outputId": "9259464d-e567-4f7a-a7eb-1b5defe6384f"
      },
      "execution_count": 25,
      "outputs": [
        {
          "output_type": "stream",
          "name": "stdout",
          "text": [
            "3\n",
            "4\n",
            "4\n"
          ]
        }
      ]
    },
    {
      "cell_type": "code",
      "source": [
        "def greatestof_2_numbers(n,m):\n",
        "  if n>m:\n",
        "    return n\n",
        "  elif m>n:\n",
        "    return m\n",
        "  else:\n",
        "    return \"equal\"\n",
        "n=int(input())\n",
        "m=int(input())\n",
        "result=(greatestof_2_numbers(n,m))\n",
        "print(result)"
      ],
      "metadata": {
        "colab": {
          "base_uri": "https://localhost:8080/"
        },
        "id": "ItsCzs7j0o05",
        "outputId": "436b9453-fc54-4de2-b523-f19b21cd9a40"
      },
      "execution_count": 27,
      "outputs": [
        {
          "output_type": "stream",
          "name": "stdout",
          "text": [
            "3\n",
            "5\n",
            "5\n"
          ]
        }
      ]
    },
    {
      "cell_type": "markdown",
      "source": [
        "**GREATEST OF 3 NUMBERS**"
      ],
      "metadata": {
        "id": "QaBWRwcI2H7f"
      }
    },
    {
      "cell_type": "code",
      "source": [
        "num1=int(input())\n",
        "num2=int(input())\n",
        "num3=int(input())\n",
        "if num1>=num2 & num1>=num2:\n",
        "  print(num1)\n",
        "elif num2>=num1 & num2>=num3:\n",
        "  print(num2)\n",
        "else:\n",
        "  print(num3)"
      ],
      "metadata": {
        "colab": {
          "base_uri": "https://localhost:8080/"
        },
        "id": "rK1LHks72Lgk",
        "outputId": "4fa69a57-bff5-4cef-a646-58086f6bf31c"
      },
      "execution_count": 31,
      "outputs": [
        {
          "output_type": "stream",
          "name": "stdout",
          "text": [
            "3\n",
            "4\n",
            "5\n",
            "5\n"
          ]
        }
      ]
    },
    {
      "cell_type": "code",
      "source": [
        "def greatestof_3numbers(num1,num2,num3):\n",
        "  if num1>=num2 & num1>=num3:\n",
        "    return num1\n",
        "  elif num2>=num3 & num2>=num1:\n",
        "    return num2\n",
        "  else:\n",
        "    return num3\n",
        "num1=int(input())\n",
        "num2=int(input())\n",
        "num3=int(input())\n",
        "result=greatestof_3numbers(num1,num2,num3)\n",
        "print(result)"
      ],
      "metadata": {
        "colab": {
          "base_uri": "https://localhost:8080/"
        },
        "id": "y9w27FsR6nXm",
        "outputId": "16b0f837-f8d0-4809-be1f-c8d8a3bc8805"
      },
      "execution_count": 32,
      "outputs": [
        {
          "output_type": "stream",
          "name": "stdout",
          "text": [
            "6\n",
            "7\n",
            "7\n",
            "7\n"
          ]
        }
      ]
    },
    {
      "cell_type": "markdown",
      "source": [
        "**Leap year**"
      ],
      "metadata": {
        "id": "2XKwiQ20_SjZ"
      }
    },
    {
      "cell_type": "code",
      "source": [
        "n=int(input())\n",
        "if n % 400==0 or n%4==0 and n%100!=0:\n",
        "  print(\"leap year\")\n",
        "else:\n",
        "  print(\"not a leap year\")"
      ],
      "metadata": {
        "colab": {
          "base_uri": "https://localhost:8080/"
        },
        "id": "PfuGgvhzAg_4",
        "outputId": "6c25a9de-b40b-4258-cf26-acd9c72a4901"
      },
      "execution_count": 35,
      "outputs": [
        {
          "output_type": "stream",
          "name": "stdout",
          "text": [
            "2024\n",
            "leap year\n"
          ]
        }
      ]
    },
    {
      "cell_type": "code",
      "source": [
        "def leapyear(year):\n",
        "  if year%400==0 or year%4==0 and year%100!=0:\n",
        "    return \"leap year\"\n",
        "  else:\n",
        "    return \"not a leap year\"\n",
        "year=int(input())\n",
        "print(leapyear(year))"
      ],
      "metadata": {
        "colab": {
          "base_uri": "https://localhost:8080/"
        },
        "id": "2hKzYfBGBak1",
        "outputId": "a03a5b3d-cd12-4fe9-a361-4a789b68c928"
      },
      "execution_count": 36,
      "outputs": [
        {
          "output_type": "stream",
          "name": "stdout",
          "text": [
            "2024\n",
            "leap year\n"
          ]
        }
      ]
    },
    {
      "cell_type": "markdown",
      "source": [
        "**PRIME NUMBERS**"
      ],
      "metadata": {
        "id": "oxIDS-W4ELt5"
      }
    },
    {
      "cell_type": "code",
      "source": [
        "n=int(input())\n",
        "if n>1:\n",
        "  for i in range(2,n):\n",
        "    if n%i==0:\n",
        "      print(\"prime\")\n",
        "      break\n",
        "  else:\n",
        "      print(\"not a prime\")\n",
        "else:\n",
        "  print(\"not a prime number\")"
      ],
      "metadata": {
        "colab": {
          "base_uri": "https://localhost:8080/"
        },
        "id": "fXo6LiM2KDMz",
        "outputId": "4270889d-841e-48ce-cf00-de958323ef72"
      },
      "execution_count": 42,
      "outputs": [
        {
          "output_type": "stream",
          "name": "stdout",
          "text": [
            "2\n",
            "not a prime\n"
          ]
        }
      ]
    },
    {
      "cell_type": "code",
      "source": [
        "def prime_number(n):\n",
        "  if n>1:\n",
        "    for i in range(2,n):\n",
        "      if n%1==0:\n",
        "        return \"prime\"\n",
        "        break\n",
        "    else:\n",
        "      return \"not a prime\"\n",
        "  else:\n",
        "    return \"not a primenumber\"\n",
        "n=int(input())\n",
        "print(prime_number(n))\n",
        "\n",
        ""
      ],
      "metadata": {
        "colab": {
          "base_uri": "https://localhost:8080/"
        },
        "id": "6dh0yGbwLCZG",
        "outputId": "2a10aadb-23ed-4463-9e0c-c447b52cda9c"
      },
      "execution_count": 45,
      "outputs": [
        {
          "output_type": "stream",
          "name": "stdout",
          "text": [
            "1\n",
            "not a primenumber\n"
          ]
        }
      ]
    },
    {
      "cell_type": "markdown",
      "source": [
        "**PRIME NUMBERS IN A GIVEN RANGE**"
      ],
      "metadata": {
        "id": "x9ZbgJdCNFWC"
      }
    },
    {
      "cell_type": "code",
      "source": [
        "n=int(input())\n",
        "m=int(input())\n",
        "for i in range(n,m)"
      ],
      "metadata": {
        "id": "EIrSYkX-NKqk"
      },
      "execution_count": null,
      "outputs": []
    }
  ]
}