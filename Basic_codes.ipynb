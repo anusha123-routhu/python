{
  "nbformat": 4,
  "nbformat_minor": 0,
  "metadata": {
    "colab": {
      "provenance": [],
      "authorship_tag": "ABX9TyMCRH6Yig/CnEM/HvPHjJrk",
      "include_colab_link": true
    },
    "kernelspec": {
      "name": "python3",
      "display_name": "Python 3"
    },
    "language_info": {
      "name": "python"
    }
  },
  "cells": [
    {
      "cell_type": "markdown",
      "metadata": {
        "id": "view-in-github",
        "colab_type": "text"
      },
      "source": [
        "<a href=\"https://colab.research.google.com/github/anusha123-routhu/python/blob/main/Basic_codes.ipynb\" target=\"_parent\"><img src=\"https://colab.research.google.com/assets/colab-badge.svg\" alt=\"Open In Colab\"/></a>"
      ]
    },
    {
      "cell_type": "markdown",
      "source": [
        "**Automorphic Number**\n",
        "if 10*10=100\n",
        "last digit of 10 and 100 are 0\n",
        "hence it is an abundant number"
      ],
      "metadata": {
        "id": "UduX55Umx1Pu"
      }
    },
    {
      "cell_type": "code",
      "source": [
        "n=int(input(\"Enter a number: \"))\n",
        "m=n*n\n",
        "num=m%10\n",
        "if num==num:\n",
        "  print(\"Automorphic Number\")\n",
        "else:\n",
        "  print(\"Not an Automorphic Number\")"
      ],
      "metadata": {
        "colab": {
          "base_uri": "https://localhost:8080/"
        },
        "id": "nIibqOsRx5lG",
        "outputId": "c352bc1f-7b45-43c3-c62e-32f46e7079ce"
      },
      "execution_count": 1,
      "outputs": [
        {
          "output_type": "stream",
          "name": "stdout",
          "text": [
            "Enter a number: 21\n",
            "Automorphic Number\n"
          ]
        }
      ]
    },
    {
      "cell_type": "markdown",
      "source": [
        "**Palindrome**\n",
        "madam=madam\n",
        "palindrome"
      ],
      "metadata": {
        "id": "ZVNM4k50yVgi"
      }
    },
    {
      "cell_type": "code",
      "source": [
        "string = input()\n",
        "reverse_string = \"\"\n",
        "\n",
        "for char in string:\n",
        "    reverse_string = char + reverse_string\n",
        "\n",
        "if string == reverse_string:\n",
        "    print(\"palindrome\")\n",
        "else:\n",
        "    print(\"not palindrome\")\n"
      ],
      "metadata": {
        "colab": {
          "base_uri": "https://localhost:8080/"
        },
        "id": "57wiY6Nxzb4H",
        "outputId": "4d6d09c8-5fa7-4305-f41d-7f39aa6aa753"
      },
      "execution_count": 2,
      "outputs": [
        {
          "output_type": "stream",
          "name": "stdout",
          "text": [
            "madam'\n",
            "not palindrome\n"
          ]
        }
      ]
    },
    {
      "cell_type": "markdown",
      "source": [
        "**Abundant Number**\n",
        "\n",
        "factors of 12=1,2,3,4,6,12=1+2+3+4+=16\n",
        "16>12 ,it is an abundant number"
      ],
      "metadata": {
        "id": "qOAg89wzzpHm"
      }
    },
    {
      "cell_type": "code",
      "source": [
        "n=int(input())\n",
        "sum=0\n",
        "for i in range(1,n):\n",
        "  if n%i==0:\n",
        "    sum=sum+i\n",
        "if sum>n:\n",
        "  print(\"Abundant Number\")\n",
        "else:\n",
        "  print(\"Not an Abundant Number\")"
      ],
      "metadata": {
        "colab": {
          "base_uri": "https://localhost:8080/"
        },
        "id": "DaMm7-LDztCV",
        "outputId": "aab7b98f-ceb6-46f1-dff0-3b98de6639f3"
      },
      "execution_count": 3,
      "outputs": [
        {
          "output_type": "stream",
          "name": "stdout",
          "text": [
            "12\n",
            "Abundant Number\n"
          ]
        }
      ]
    },
    {
      "cell_type": "markdown",
      "source": [
        "**FRIENDLY PAIR**\n",
        "\n",
        "6=1,2,3\n",
        "\n",
        "\n",
        "\n",
        "\n",
        "\n",
        "\n",
        "\n",
        "\n",
        "\n",
        "\n",
        "28=1,2,4,7,14\n",
        "\n",
        "\n",
        "\n",
        "\n",
        "\n",
        "\n",
        "\n",
        "\n",
        "6/6=1\n",
        "\n",
        "28/28=1"
      ],
      "metadata": {
        "id": "twDgr5aL6oIL"
      }
    },
    {
      "cell_type": "code",
      "source": [
        "\n",
        "n=int(input())\n",
        "m=int(input())\n",
        "sum1=0\n",
        "sum2=0\n",
        "for i in range(1,n):\n",
        "  if n%i==0:\n",
        "    sum1=sum1+I\n",
        "for j in range(1,m):\n",
        "  if m%j==0:\n",
        "    sum2=sum2+j\n",
        "if sum1==m and sum2==n:\n",
        "  print(\"Friendly Pair\")\n",
        "else:\n",
        "  print(\"Not a Friendly Pair\")"
      ],
      "metadata": {
        "colab": {
          "base_uri": "https://localhost:8080/"
        },
        "id": "oVguq9hQ6nTe",
        "outputId": "c8bebb7b-9820-4631-ca4f-ce08995d4519"
      },
      "execution_count": 6,
      "outputs": [
        {
          "output_type": "stream",
          "name": "stdout",
          "text": [
            "2\n",
            "3\n",
            "Not a Friendly Pair\n"
          ]
        }
      ]
    },
    {
      "cell_type": "markdown",
      "source": [
        "**Perfect NUmber**\n",
        "\n",
        "28=1,2,4,7,14\n",
        "1+2+4+7+14=28"
      ],
      "metadata": {
        "id": "ua3vYXKl9ua3"
      }
    },
    {
      "cell_type": "code",
      "source": [
        "n=int(input())\n",
        "sum=0\n",
        "for i in range(1,n):\n",
        "  if n%i==0:\n",
        "    sum=sum+i\n",
        "if sum==n:\n",
        "  print(\"Perfect Number\")\n",
        "else:\n",
        "  print(\"Not a Perfect Number\")\n"
      ],
      "metadata": {
        "colab": {
          "base_uri": "https://localhost:8080/"
        },
        "id": "8Tg-RaKF-QxN",
        "outputId": "01be7c05-1f0e-47bf-9a14-d9d50fb8460c"
      },
      "execution_count": 10,
      "outputs": [
        {
          "output_type": "stream",
          "name": "stdout",
          "text": [
            "21\n",
            "Not a Perfect Number\n"
          ]
        }
      ]
    },
    {
      "cell_type": "markdown",
      "source": [
        "**Harshad Number**\n",
        "\n",
        "if 21=2+1=3 21%3==0 it is a harshad number"
      ],
      "metadata": {
        "id": "4arPfvUK_zJ4"
      }
    },
    {
      "cell_type": "code",
      "source": [
        "n=int(input())\n",
        "sum=0\n",
        "temp=n\n",
        "while temp>0:\n",
        "  digit=temp%10\n",
        "  sum=sum+digit\n",
        "  temp=temp//10\n",
        "if n%sum==0:\n",
        "  print(\"Harshad Number\")\n",
        "else:\n",
        "  print(\"Not an Harshad Number\")"
      ],
      "metadata": {
        "colab": {
          "base_uri": "https://localhost:8080/"
        },
        "id": "xEUm2xCa_0tn",
        "outputId": "18f14a8b-c544-4edd-a801-9ea13e1f2063"
      },
      "execution_count": 11,
      "outputs": [
        {
          "output_type": "stream",
          "name": "stdout",
          "text": [
            "21\n",
            "Harshad Number\n"
          ]
        }
      ]
    },
    {
      "cell_type": "markdown",
      "source": [
        "Perfect Square"
      ],
      "metadata": {
        "id": "5L_um77YALhy"
      }
    },
    {
      "cell_type": "code",
      "source": [
        "import math\n",
        "n=int(input())\n",
        "root=math.sqrt(n)\n",
        "if int(root+0.5)**2==n:\n",
        "  print(\"Perfect Square\")\n",
        "else:\n",
        "  print(\"Not a Perfect Square\")\n",
        "\n"
      ],
      "metadata": {
        "colab": {
          "base_uri": "https://localhost:8080/"
        },
        "id": "HbVe2IXzAPqU",
        "outputId": "9f893d58-d253-425e-b37f-45daee6bbece"
      },
      "execution_count": 12,
      "outputs": [
        {
          "output_type": "stream",
          "name": "stdout",
          "text": [
            "25\n",
            "Perfect Square\n"
          ]
        }
      ]
    }
  ]
}